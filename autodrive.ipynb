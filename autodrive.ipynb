{
  "cells": [
    {
      "cell_type": "code",
      "execution_count": 98,
      "metadata": {
        "id": "4Xd5WIVxHgrJ"
      },
      "outputs": [],
      "source": [
        "from torch.utils.data import Dataset, DataLoader\n",
        "import cv2\n",
        "from PIL import Image\n",
        "import pandas as pd\n",
        "import torch\n",
        "import os\n",
        "from torchvision.transforms import CenterCrop, Resize, Compose, ToTensor, Normalize\n",
        "import matplotlib.pyplot as plt\n",
        "import pandas as pd\n",
        "from sklearn.model_selection import train_test_split\n",
        "import torchvision.models\n",
        "import torch.optim as optim\n",
        "from tqdm import tqdm\n",
        "import gc\n",
        "import numpy as np"
      ]
    },
    {
      "cell_type": "code",
      "execution_count": 99,
      "metadata": {
        "id": "nOOOTvkWJ-N9"
      },
      "outputs": [],
      "source": [
        "transformer = Compose([\n",
        "    Resize((480,480)),\n",
        "    CenterCrop(480),\n",
        "    Normalize(mean =[0.485, 0.456, 0.406], std =[0.229, 0.224, 0.225] )\n",
        "])"
      ]
    },
    {
      "cell_type": "code",
      "execution_count": 100,
      "metadata": {
        "id": "31lcBW3BHu6C"
      },
      "outputs": [],
      "source": [
        "class DinoDataset(Dataset):\n",
        "    def __init__(self, dataframe, root_dir, transform = None):\n",
        "        \"\"\"\n",
        "        Args:\n",
        "            csv_file (string): Path to the csv file with annotations.\n",
        "            root_dir (string): Directory with all the images.\n",
        "            transform (callable, optional): Optional transform to be applied\n",
        "                on a sample.\n",
        "        \"\"\"\n",
        "\n",
        "        self.key_frame = dataframe\n",
        "        self.root_dir = root_dir\n",
        "        self.transform = transform\n",
        "\n",
        "    def __len__(self):\n",
        "        return len(self.key_frame)\n",
        "    \n",
        "    def __getitem__(self, idx):\n",
        "        if torch.is_tensor(idx):\n",
        "            idx = idx.to_list()\n",
        "    \n",
        "        img_name = os.path.join(self.root_dir, self.key_frame.iloc[idx,0])\n",
        "        image = Image.open(img_name)\n",
        "        image = ToTensor()(image)\n",
        "        label = torch.tensor(self.key_frame.iloc[idx, 1])\n",
        "\n",
        "        if self.transform: \n",
        "            image = self.transform(image)\n",
        "\n",
        "        return image, label"
      ]
    },
    {
      "cell_type": "code",
      "execution_count": 101,
      "metadata": {
        "colab": {
          "base_uri": "https://localhost:8080/",
          "height": 363
        },
        "id": "GNavpwEzBTSd",
        "outputId": "c0e20eb6-9865-4893-b235-0e601ab551e0"
      },
      "outputs": [
        {
          "data": {
            "text/html": [
              "<div>\n",
              "<style scoped>\n",
              "    .dataframe tbody tr th:only-of-type {\n",
              "        vertical-align: middle;\n",
              "    }\n",
              "\n",
              "    .dataframe tbody tr th {\n",
              "        vertical-align: top;\n",
              "    }\n",
              "\n",
              "    .dataframe thead th {\n",
              "        text-align: right;\n",
              "    }\n",
              "</style>\n",
              "<table border=\"1\" class=\"dataframe\">\n",
              "  <thead>\n",
              "    <tr style=\"text-align: right;\">\n",
              "      <th></th>\n",
              "      <th>file_name</th>\n",
              "      <th>class</th>\n",
              "    </tr>\n",
              "  </thead>\n",
              "  <tbody>\n",
              "    <tr>\n",
              "      <th>8369</th>\n",
              "      <td>2023_05_09_12_00_51.302979 n.png</td>\n",
              "      <td>0</td>\n",
              "    </tr>\n",
              "    <tr>\n",
              "      <th>6416</th>\n",
              "      <td>2023_05_09_12_00_02.719956 n.png</td>\n",
              "      <td>0</td>\n",
              "    </tr>\n",
              "    <tr>\n",
              "      <th>9597</th>\n",
              "      <td>2023_05_09_12_02_09.268398 n.png</td>\n",
              "      <td>0</td>\n",
              "    </tr>\n",
              "    <tr>\n",
              "      <th>10431</th>\n",
              "      <td>2023_05_09_12_02_29.434396 n.png</td>\n",
              "      <td>0</td>\n",
              "    </tr>\n",
              "    <tr>\n",
              "      <th>10311</th>\n",
              "      <td>2023_05_09_12_02_26.683918 n.png</td>\n",
              "      <td>0</td>\n",
              "    </tr>\n",
              "    <tr>\n",
              "      <th>11442</th>\n",
              "      <td>2023_05_09_12_03_15.983607 n.png</td>\n",
              "      <td>0</td>\n",
              "    </tr>\n",
              "    <tr>\n",
              "      <th>6309</th>\n",
              "      <td>2023_05_09_11_59_59.903786 n.png</td>\n",
              "      <td>0</td>\n",
              "    </tr>\n",
              "    <tr>\n",
              "      <th>4342</th>\n",
              "      <td>2023_05_09_10_48_06.173753 n.png</td>\n",
              "      <td>0</td>\n",
              "    </tr>\n",
              "    <tr>\n",
              "      <th>2069</th>\n",
              "      <td>2023_05_09_10_46_45.042157 n.png</td>\n",
              "      <td>0</td>\n",
              "    </tr>\n",
              "    <tr>\n",
              "      <th>1532</th>\n",
              "      <td>2023_05_09_10_46_27.159056 space.png</td>\n",
              "      <td>1</td>\n",
              "    </tr>\n",
              "  </tbody>\n",
              "</table>\n",
              "</div>"
            ],
            "text/plain": [
              "                                  file_name  class\n",
              "8369       2023_05_09_12_00_51.302979 n.png      0\n",
              "6416       2023_05_09_12_00_02.719956 n.png      0\n",
              "9597       2023_05_09_12_02_09.268398 n.png      0\n",
              "10431      2023_05_09_12_02_29.434396 n.png      0\n",
              "10311      2023_05_09_12_02_26.683918 n.png      0\n",
              "11442      2023_05_09_12_03_15.983607 n.png      0\n",
              "6309       2023_05_09_11_59_59.903786 n.png      0\n",
              "4342       2023_05_09_10_48_06.173753 n.png      0\n",
              "2069       2023_05_09_10_46_45.042157 n.png      0\n",
              "1532   2023_05_09_10_46_27.159056 space.png      1"
            ]
          },
          "execution_count": 101,
          "metadata": {},
          "output_type": "execute_result"
        }
      ],
      "source": [
        "key_frame = pd.read_csv(\"labels_dino.csv\")\n",
        "train,test = train_test_split(key_frame, test_size = 0.2)\n",
        "train = pd.DataFrame(train)\n",
        "test = pd.DataFrame(test)\n",
        "train.sample(10)\n"
      ]
    },
    {
      "cell_type": "code",
      "execution_count": 102,
      "metadata": {
        "colab": {
          "base_uri": "https://localhost:8080/"
        },
        "id": "cjxhu6vqBfua",
        "outputId": "06060b14-66d2-40c6-bb70-0626df14ee58"
      },
      "outputs": [],
      "source": [
        "batch_size = 8\n",
        "trainset = DinoDataset(root_dir = \"captures\", dataframe = train, transform = transformer)\n",
        "trainloader = torch.utils.data.DataLoader(trainset, batch_size = batch_size, shuffle = True) \n",
        "\n",
        "testset = DinoDataset(root_dir = \"captures\", dataframe = test, transform = transformer)\n",
        "testloader = torch.utils.data.DataLoader(testset, batch_size = batch_size, shuffle = True)"
      ]
    },
    {
      "cell_type": "code",
      "execution_count": 118,
      "metadata": {
        "colab": {
          "base_uri": "https://localhost:8080/",
          "height": 171
        },
        "id": "K64HkGW78gkt",
        "outputId": "22a6e18d-36ab-4ee0-872e-6cdcb3207a7b"
      },
      "outputs": [
        {
          "data": {
            "image/png": "[encoded data removed]",
            "text/plain": [
              "<Figure size 640x480 with 8 Axes>"
            ]
          },
          "metadata": {},
          "output_type": "display_data"
        }
      ],
      "source": [
        "dataiter = iter(trainloader)\n",
        "images, labels = next(dataiter)\n",
        "\n",
        "for i in range(len(images)):\n",
        "        ax = plt.subplot(2, 4, i + 1)\n",
        "        image = (images[i].permute(1,2,0)*255.0).cpu()\n",
        "        ax.set_title(labels[i].item(), fontsize=20)  # Setting the title of the subplot\n",
        "        ax.set_xticklabels([])   # Removing the x-axis labels\n",
        "        ax.set_yticklabels([])   # Removing the y-axis labels\n",
        "        plt.imshow(image)        # Plotting the image\n",
        "\n"
      ]
    },
    {
      "cell_type": "code",
      "execution_count": 28,
      "metadata": {
        "id": "V95j_eJjCt-s"
      },
      "outputs": [],
      "source": [
        "device = \"cuda\" if torch.cuda.is_available() else \"cpu\"\n",
        "model = torchvision.models.efficientnet_v2_s()\n",
        "model.classifier = torch.nn.Linear(in_features = 1280, out_features = 2)\n",
        "model = model.to(device)\n",
        "\n",
        "\n",
        "criterion = torch.nn.CrossEntropyLoss()\n",
        "optimizer = optim.SGD(model.parameters(), lr=0.01, momentum=0.009)"
      ]
    },
    {
      "attachments": {},
      "cell_type": "markdown",
      "metadata": {
        "id": "ghEXjslPKDN3"
      },
      "source": [
        "# Training"
      ]
    },
    {
      "cell_type": "code",
      "execution_count": 29,
      "metadata": {
        "id": "Z54wcnI17Hl5"
      },
      "outputs": [
        {
          "name": "stderr",
          "output_type": "stream",
          "text": [
            "100%|██████████| 1280/1280 [05:35<00:00,  3.82it/s]\n"
          ]
        },
        {
          "name": "stdout",
          "output_type": "stream",
          "text": [
            "[1] | loss: 0.365\n"
          ]
        },
        {
          "name": "stderr",
          "output_type": "stream",
          "text": [
            "100%|██████████| 1280/1280 [05:20<00:00,  4.00it/s]\n"
          ]
        },
        {
          "name": "stdout",
          "output_type": "stream",
          "text": [
            "[2] | loss: 0.238\n"
          ]
        },
        {
          "name": "stderr",
          "output_type": "stream",
          "text": [
            "100%|██████████| 1280/1280 [05:15<00:00,  4.06it/s]\n"
          ]
        },
        {
          "name": "stdout",
          "output_type": "stream",
          "text": [
            "[3] | loss: 0.203\n"
          ]
        },
        {
          "name": "stderr",
          "output_type": "stream",
          "text": [
            "100%|██████████| 1280/1280 [05:55<00:00,  3.60it/s]\n"
          ]
        },
        {
          "name": "stdout",
          "output_type": "stream",
          "text": [
            "[4] | loss: 0.198\n"
          ]
        },
        {
          "name": "stderr",
          "output_type": "stream",
          "text": [
            "100%|██████████| 1280/1280 [05:45<00:00,  3.70it/s]\n"
          ]
        },
        {
          "name": "stdout",
          "output_type": "stream",
          "text": [
            "[5] | loss: 0.182\n"
          ]
        },
        {
          "name": "stderr",
          "output_type": "stream",
          "text": [
            "100%|██████████| 1280/1280 [05:25<00:00,  3.93it/s]\n"
          ]
        },
        {
          "name": "stdout",
          "output_type": "stream",
          "text": [
            "[6] | loss: 0.176\n"
          ]
        },
        {
          "name": "stderr",
          "output_type": "stream",
          "text": [
            "100%|██████████| 1280/1280 [05:40<00:00,  3.76it/s]\n"
          ]
        },
        {
          "name": "stdout",
          "output_type": "stream",
          "text": [
            "[7] | loss: 0.172\n"
          ]
        },
        {
          "name": "stderr",
          "output_type": "stream",
          "text": [
            "100%|██████████| 1280/1280 [05:47<00:00,  3.68it/s]\n"
          ]
        },
        {
          "name": "stdout",
          "output_type": "stream",
          "text": [
            "[8] | loss: 0.166\n"
          ]
        },
        {
          "name": "stderr",
          "output_type": "stream",
          "text": [
            "100%|██████████| 1280/1280 [06:47<00:00,  3.14it/s]\n"
          ]
        },
        {
          "name": "stdout",
          "output_type": "stream",
          "text": [
            "[9] | loss: 0.168\n"
          ]
        },
        {
          "name": "stderr",
          "output_type": "stream",
          "text": [
            "100%|██████████| 1280/1280 [05:51<00:00,  3.64it/s]\n"
          ]
        },
        {
          "name": "stdout",
          "output_type": "stream",
          "text": [
            "[10] | loss: 0.161\n"
          ]
        },
        {
          "name": "stderr",
          "output_type": "stream",
          "text": [
            "100%|██████████| 1280/1280 [05:11<00:00,  4.10it/s]\n"
          ]
        },
        {
          "name": "stdout",
          "output_type": "stream",
          "text": [
            "[11] | loss: 0.162\n"
          ]
        },
        {
          "name": "stderr",
          "output_type": "stream",
          "text": [
            "100%|██████████| 1280/1280 [04:58<00:00,  4.29it/s]\n"
          ]
        },
        {
          "name": "stdout",
          "output_type": "stream",
          "text": [
            "[12] | loss: 0.156\n"
          ]
        },
        {
          "name": "stderr",
          "output_type": "stream",
          "text": [
            "100%|██████████| 1280/1280 [05:14<00:00,  4.07it/s]\n"
          ]
        },
        {
          "name": "stdout",
          "output_type": "stream",
          "text": [
            "[13] | loss: 0.152\n"
          ]
        },
        {
          "name": "stderr",
          "output_type": "stream",
          "text": [
            "100%|██████████| 1280/1280 [05:24<00:00,  3.94it/s]\n"
          ]
        },
        {
          "name": "stdout",
          "output_type": "stream",
          "text": [
            "[14] | loss: 0.151\n"
          ]
        },
        {
          "name": "stderr",
          "output_type": "stream",
          "text": [
            "100%|██████████| 1280/1280 [05:30<00:00,  3.88it/s]"
          ]
        },
        {
          "name": "stdout",
          "output_type": "stream",
          "text": [
            "[15] | loss: 0.147\n",
            "Finished Training\n"
          ]
        },
        {
          "name": "stderr",
          "output_type": "stream",
          "text": [
            "\n"
          ]
        }
      ],
      "source": [
        "epochs =15\n",
        "loss_container = []\n",
        "for epoch in range(epochs):  # loop over the dataset multiple times\n",
        "\n",
        "    running_loss = 0.0\n",
        "    for data in tqdm(trainloader, position = 0, leave = True ):\n",
        "        # get the inputs; data is a list of [inputs, labels]\n",
        "        inputs, labels = data\n",
        "        inputs = inputs.to(device)\n",
        "        labels = labels.to(device)\n",
        "        # zero the parameter gradients\n",
        "        optimizer.zero_grad()\n",
        "\n",
        "        # forward + backward + optimize\n",
        "        outputs = model(inputs)\n",
        "        loss = criterion(outputs, labels)\n",
        "        loss.backward()\n",
        "        optimizer.step()\n",
        "\n",
        "        running_loss += loss.item()\n",
        "    \n",
        "    loss_container.append(running_loss)\n",
        "\n",
        "    print(f'[{epoch + 1}] | loss: {running_loss / len(trainloader):.3f}')\n",
        "    running_loss = 0.0\n",
        "\n",
        "print('Finished Training')"
      ]
    },
    {
      "cell_type": "code",
      "execution_count": 32,
      "metadata": {},
      "outputs": [
        {
          "data": {
            "text/plain": [
              "[<matplotlib.lines.Line2D at 0x1df0dab41c8>]"
            ]
          },
          "execution_count": 32,
          "metadata": {},
          "output_type": "execute_result"
        },
        {
          "data": {
            "image/png": "[encoded data removed]",
            "text/plain": [
              "<Figure size 640x480 with 1 Axes>"
            ]
          },
          "metadata": {},
          "output_type": "display_data"
        }
      ],
      "source": [
        "# loss_container\n",
        "plt.plot(np.linspace(1, epochs, epochs).astype(int), loss_container)"
      ]
    },
    {
      "cell_type": "code",
      "execution_count": 33,
      "metadata": {
        "id": "8UsUGNltG3dz"
      },
      "outputs": [],
      "source": [
        "gc.collect()\n",
        "torch.cuda.empty_cache()"
      ]
    },
    {
      "attachments": {},
      "cell_type": "markdown",
      "metadata": {
        "id": "VnFkI70YKH7o"
      },
      "source": [
        "# Save Model Weights"
      ]
    },
    {
      "cell_type": "code",
      "execution_count": 34,
      "metadata": {
        "id": "spPyjNEb-TRK"
      },
      "outputs": [],
      "source": [
        "PATH = 'efficientnet_s.pth'\n",
        "torch.save(model.state_dict(), PATH)"
      ]
    },
    {
      "attachments": {},
      "cell_type": "markdown",
      "metadata": {
        "id": "-x2tg0oXKMbw"
      },
      "source": [
        "# Test and Inference"
      ]
    },
    {
      "cell_type": "code",
      "execution_count": 35,
      "metadata": {
        "id": "6IXHmw-2C33Y"
      },
      "outputs": [],
      "source": [
        "saved_model = torchvision.models.efficientnet_v2_s()\n",
        "saved_model.classifier = torch.nn.Linear(in_features = 1280, out_features = 2)\n",
        "saved_model.load_state_dict(torch.load(PATH))\n",
        "saved_model = saved_model.to(device)\n",
        "saved_mode = saved_model.eval()\n",
        "\n"
      ]
    },
    {
      "cell_type": "code",
      "execution_count": 36,
      "metadata": {},
      "outputs": [
        {
          "name": "stderr",
          "output_type": "stream",
          "text": [
            "100%|██████████| 1280/1280 [01:44<00:00, 12.28it/s]\n"
          ]
        }
      ],
      "source": [
        "correct = 0\n",
        "total = 0\n",
        "with torch.no_grad():\n",
        "  for data in tqdm(trainloader, position = 0, leave = True):\n",
        "    images,labels = data\n",
        "    images = images.to(device)\n",
        "    labels = labels.to(device)\n",
        "\n",
        "    outputs = saved_model(images)\n",
        "    predicted = torch.softmax(outputs,dim = 1).argmax(dim = 1)\n",
        "    total += labels.size(0)\n",
        "    correct += (predicted == labels).sum().item()\n",
        "\n"
      ]
    },
    {
      "cell_type": "code",
      "execution_count": 40,
      "metadata": {},
      "outputs": [
        {
          "name": "stdout",
          "output_type": "stream",
          "text": [
            "\n",
            " Accuracy of the network on the training images: 91 %\n"
          ]
        }
      ],
      "source": [
        "print(f'\\n Accuracy of the network on the training images: {100 * correct // total} %')"
      ]
    },
    {
      "cell_type": "code",
      "execution_count": 38,
      "metadata": {
        "id": "F2inx1GuEFSr"
      },
      "outputs": [
        {
          "name": "stderr",
          "output_type": "stream",
          "text": [
            "100%|██████████| 321/321 [00:31<00:00, 10.10it/s]\n"
          ]
        }
      ],
      "source": [
        "correct = 0\n",
        "total = 0\n",
        "with torch.no_grad():\n",
        "  for data in tqdm(testloader):\n",
        "    images,labels = data\n",
        "    images = images.to(device)\n",
        "    labels = labels.to(device)\n",
        "\n",
        "    outputs = saved_model(images)\n",
        "    predicted = torch.softmax(outputs,dim = 1).argmax(dim = 1)\n",
        "    total += labels.size(0)\n",
        "    correct += (predicted == labels).sum().item()\n"
      ]
    },
    {
      "cell_type": "code",
      "execution_count": 39,
      "metadata": {},
      "outputs": [
        {
          "name": "stdout",
          "output_type": "stream",
          "text": [
            "\n",
            " Accuracy of the network on the test images: 91 %\n"
          ]
        }
      ],
      "source": [
        "print(f'\\n Accuracy of the network on the test images: {100 * correct // total} %')"
      ]
    }
  ],
  "metadata": {
    "accelerator": "GPU",
    "colab": {
      "provenance": []
    },
    "gpuClass": "standard",
    "kernelspec": {
      "display_name": "autodrive-env",
      "language": "python",
      "name": "python3"
    },
    "language_info": {
      "codemirror_mode": {
        "name": "ipython",
        "version": 3
      },
      "file_extension": ".py",
      "mimetype": "text/x-python",
      "name": "python",
      "nbconvert_exporter": "python",
      "pygments_lexer": "ipython3",
      "version": "3.7.16"
    },
    "vscode": {
      "interpreter": {
        "hash": "89c400947af060eca0a0948d22f6352c8f4e37a91fc8d453c94a68b2bdf5ef16"
      }
    }
  },
  "nbformat": 4,
  "nbformat_minor": 0
}
